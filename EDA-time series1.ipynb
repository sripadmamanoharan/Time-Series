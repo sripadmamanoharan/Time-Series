{
 "cells": [
  {
   "cell_type": "code",
   "execution_count": 23,
   "id": "8297a149-b294-4c95-9087-11bb314d9f3c",
   "metadata": {},
   "outputs": [
    {
     "name": "stdout",
     "output_type": "stream",
     "text": [
      "Requirement already satisfied: pandas-datareader in /Library/anaconda3/lib/python3.11/site-packages (0.10.0)\n",
      "Requirement already satisfied: lxml in /Library/anaconda3/lib/python3.11/site-packages (from pandas-datareader) (4.9.3)\n",
      "Requirement already satisfied: pandas>=0.23 in /Library/anaconda3/lib/python3.11/site-packages (from pandas-datareader) (2.1.4)\n",
      "Requirement already satisfied: requests>=2.19.0 in /Library/anaconda3/lib/python3.11/site-packages (from pandas-datareader) (2.31.0)\n",
      "Requirement already satisfied: numpy<2,>=1.23.2 in /Library/anaconda3/lib/python3.11/site-packages (from pandas>=0.23->pandas-datareader) (1.26.4)\n",
      "Requirement already satisfied: python-dateutil>=2.8.2 in /Library/anaconda3/lib/python3.11/site-packages (from pandas>=0.23->pandas-datareader) (2.8.2)\n",
      "Requirement already satisfied: pytz>=2020.1 in /Library/anaconda3/lib/python3.11/site-packages (from pandas>=0.23->pandas-datareader) (2023.3.post1)\n",
      "Requirement already satisfied: tzdata>=2022.1 in /Library/anaconda3/lib/python3.11/site-packages (from pandas>=0.23->pandas-datareader) (2023.3)\n",
      "Requirement already satisfied: charset-normalizer<4,>=2 in /Library/anaconda3/lib/python3.11/site-packages (from requests>=2.19.0->pandas-datareader) (2.0.4)\n",
      "Requirement already satisfied: idna<4,>=2.5 in /Library/anaconda3/lib/python3.11/site-packages (from requests>=2.19.0->pandas-datareader) (3.4)\n",
      "Requirement already satisfied: urllib3<3,>=1.21.1 in /Library/anaconda3/lib/python3.11/site-packages (from requests>=2.19.0->pandas-datareader) (2.0.7)\n",
      "Requirement already satisfied: certifi>=2017.4.17 in /Library/anaconda3/lib/python3.11/site-packages (from requests>=2.19.0->pandas-datareader) (2024.2.2)\n",
      "Requirement already satisfied: six>=1.5 in /Library/anaconda3/lib/python3.11/site-packages (from python-dateutil>=2.8.2->pandas>=0.23->pandas-datareader) (1.16.0)\n"
     ]
    }
   ],
   "source": [
    "##pandas-datareader\n",
    "!pip install pandas-datareader"
   ]
  },
  {
   "cell_type": "code",
   "execution_count": 24,
   "id": "0a7aef74-0aad-4296-9521-a634a5c0c01f",
   "metadata": {},
   "outputs": [],
   "source": [
    "import pandas_datareader as pdr\n",
    "import pandas as pd\n",
    "from datetime import datetime"
   ]
  },
  {
   "cell_type": "code",
   "execution_count": 25,
   "id": "e649ba10-2b86-4488-ab95-dfea1d4a701f",
   "metadata": {},
   "outputs": [
    {
     "ename": "AttributeError",
     "evalue": "'NoneType' object has no attribute 'group'",
     "output_type": "error",
     "traceback": [
      "\u001b[0;31m---------------------------------------------------------------------------\u001b[0m",
      "\u001b[0;31mAttributeError\u001b[0m                            Traceback (most recent call last)",
      "Cell \u001b[0;32mIn[25], line 1\u001b[0m\n\u001b[0;32m----> 1\u001b[0m df_tesla\u001b[38;5;241m=\u001b[39mpdr\u001b[38;5;241m.\u001b[39mget_data_yahoo(\u001b[38;5;124m'\u001b[39m\u001b[38;5;124mTSLA\u001b[39m\u001b[38;5;124m'\u001b[39m)\n",
      "File \u001b[0;32m/Library/anaconda3/lib/python3.11/site-packages/pandas_datareader/data.py:80\u001b[0m, in \u001b[0;36mget_data_yahoo\u001b[0;34m(*args, **kwargs)\u001b[0m\n\u001b[1;32m     79\u001b[0m \u001b[38;5;28;01mdef\u001b[39;00m \u001b[38;5;21mget_data_yahoo\u001b[39m(\u001b[38;5;241m*\u001b[39margs, \u001b[38;5;241m*\u001b[39m\u001b[38;5;241m*\u001b[39mkwargs):\n\u001b[0;32m---> 80\u001b[0m     \u001b[38;5;28;01mreturn\u001b[39;00m YahooDailyReader(\u001b[38;5;241m*\u001b[39margs, \u001b[38;5;241m*\u001b[39m\u001b[38;5;241m*\u001b[39mkwargs)\u001b[38;5;241m.\u001b[39mread()\n",
      "File \u001b[0;32m/Library/anaconda3/lib/python3.11/site-packages/pandas_datareader/base.py:253\u001b[0m, in \u001b[0;36m_DailyBaseReader.read\u001b[0;34m(self)\u001b[0m\n\u001b[1;32m    251\u001b[0m \u001b[38;5;66;03m# If a single symbol, (e.g., 'GOOG')\u001b[39;00m\n\u001b[1;32m    252\u001b[0m \u001b[38;5;28;01mif\u001b[39;00m \u001b[38;5;28misinstance\u001b[39m(\u001b[38;5;28mself\u001b[39m\u001b[38;5;241m.\u001b[39msymbols, (string_types, \u001b[38;5;28mint\u001b[39m)):\n\u001b[0;32m--> 253\u001b[0m     df \u001b[38;5;241m=\u001b[39m \u001b[38;5;28mself\u001b[39m\u001b[38;5;241m.\u001b[39m_read_one_data(\u001b[38;5;28mself\u001b[39m\u001b[38;5;241m.\u001b[39murl, params\u001b[38;5;241m=\u001b[39m\u001b[38;5;28mself\u001b[39m\u001b[38;5;241m.\u001b[39m_get_params(\u001b[38;5;28mself\u001b[39m\u001b[38;5;241m.\u001b[39msymbols))\n\u001b[1;32m    254\u001b[0m \u001b[38;5;66;03m# Or multiple symbols, (e.g., ['GOOG', 'AAPL', 'MSFT'])\u001b[39;00m\n\u001b[1;32m    255\u001b[0m \u001b[38;5;28;01melif\u001b[39;00m \u001b[38;5;28misinstance\u001b[39m(\u001b[38;5;28mself\u001b[39m\u001b[38;5;241m.\u001b[39msymbols, DataFrame):\n",
      "File \u001b[0;32m/Library/anaconda3/lib/python3.11/site-packages/pandas_datareader/yahoo/daily.py:152\u001b[0m, in \u001b[0;36mYahooDailyReader._read_one_data\u001b[0;34m(self, url, params)\u001b[0m\n\u001b[1;32m    150\u001b[0m ptrn \u001b[38;5;241m=\u001b[39m \u001b[38;5;124mr\u001b[39m\u001b[38;5;124m\"\u001b[39m\u001b[38;5;124mroot\u001b[39m\u001b[38;5;124m\\\u001b[39m\u001b[38;5;124m.App\u001b[39m\u001b[38;5;124m\\\u001b[39m\u001b[38;5;124m.main = (.*?);\u001b[39m\u001b[38;5;124m\\\u001b[39m\u001b[38;5;124mn}\u001b[39m\u001b[38;5;124m\\\u001b[39m\u001b[38;5;124m(this\u001b[39m\u001b[38;5;124m\\\u001b[39m\u001b[38;5;124m)\u001b[39m\u001b[38;5;124m\\\u001b[39m\u001b[38;5;124m);\u001b[39m\u001b[38;5;124m\"\u001b[39m\n\u001b[1;32m    151\u001b[0m \u001b[38;5;28;01mtry\u001b[39;00m:\n\u001b[0;32m--> 152\u001b[0m     j \u001b[38;5;241m=\u001b[39m json\u001b[38;5;241m.\u001b[39mloads(re\u001b[38;5;241m.\u001b[39msearch(ptrn, resp\u001b[38;5;241m.\u001b[39mtext, re\u001b[38;5;241m.\u001b[39mDOTALL)\u001b[38;5;241m.\u001b[39mgroup(\u001b[38;5;241m1\u001b[39m))\n\u001b[1;32m    153\u001b[0m     data \u001b[38;5;241m=\u001b[39m j[\u001b[38;5;124m\"\u001b[39m\u001b[38;5;124mcontext\u001b[39m\u001b[38;5;124m\"\u001b[39m][\u001b[38;5;124m\"\u001b[39m\u001b[38;5;124mdispatcher\u001b[39m\u001b[38;5;124m\"\u001b[39m][\u001b[38;5;124m\"\u001b[39m\u001b[38;5;124mstores\u001b[39m\u001b[38;5;124m\"\u001b[39m][\u001b[38;5;124m\"\u001b[39m\u001b[38;5;124mHistoricalPriceStore\u001b[39m\u001b[38;5;124m\"\u001b[39m]\n\u001b[1;32m    154\u001b[0m \u001b[38;5;28;01mexcept\u001b[39;00m \u001b[38;5;167;01mKeyError\u001b[39;00m:\n",
      "\u001b[0;31mAttributeError\u001b[0m: 'NoneType' object has no attribute 'group'"
     ]
    }
   ],
   "source": [
    "df_tesla=pdr.get_data_yahoo('TSLA')"
   ]
  },
  {
   "cell_type": "code",
   "execution_count": null,
   "id": "7b21bfa3-cd87-43bc-a4d0-a2507569c3c4",
   "metadata": {},
   "outputs": [],
   "source": [
    "df_tesla.tail()"
   ]
  },
  {
   "cell_type": "code",
   "execution_count": null,
   "id": "8bc48f30-8cd4-4e9f-8b9d-62e8541b74e9",
   "metadata": {},
   "outputs": [],
   "source": [
    "df_tesla['High'].plot(figsize=(12,4))"
   ]
  },
  {
   "cell_type": "code",
   "execution_count": null,
   "id": "6ed1dd9e-cb8d-4e36-9579-311de011c6ca",
   "metadata": {},
   "outputs": [],
   "source": [
    "## X limit and y limit\n",
    "df_tesla['High'].plot(xlim=['2020-01-01','2021-01-01'],figsize=(12,4))"
   ]
  },
  {
   "cell_type": "code",
   "execution_count": null,
   "id": "9cad67ed-9528-4e08-851f-a11fe3a72ae7",
   "metadata": {},
   "outputs": [],
   "source": [
    "df_tesla['High'].plot(xlim=['2020-01-01','2021-01-01'],ylim=[0,800],figsize=(12,4))"
   ]
  },
  {
   "cell_type": "code",
   "execution_count": 3,
   "id": "0411ea4c-f6b0-4c46-a0da-5dba7ab26abe",
   "metadata": {},
   "outputs": [
    {
     "ename": "NameError",
     "evalue": "name 'df_tesla' is not defined",
     "output_type": "error",
     "traceback": [
      "\u001b[0;31m---------------------------------------------------------------------------\u001b[0m",
      "\u001b[0;31mNameError\u001b[0m                                 Traceback (most recent call last)",
      "Cell \u001b[0;32mIn[3], line 2\u001b[0m\n\u001b[1;32m      1\u001b[0m \u001b[38;5;66;03m## X limit and y limit coloring\u001b[39;00m\n\u001b[0;32m----> 2\u001b[0m df_tesla[\u001b[38;5;124m'\u001b[39m\u001b[38;5;124mHigh\u001b[39m\u001b[38;5;124m'\u001b[39m]\u001b[38;5;241m.\u001b[39mplot(xlim\u001b[38;5;241m=\u001b[39m[\u001b[38;5;124m'\u001b[39m\u001b[38;5;124m2020-01-01\u001b[39m\u001b[38;5;124m'\u001b[39m,\u001b[38;5;124m'\u001b[39m\u001b[38;5;124m2021-01-01\u001b[39m\u001b[38;5;124m'\u001b[39m],ylim\u001b[38;5;241m=\u001b[39m[\u001b[38;5;241m0\u001b[39m,\u001b[38;5;241m800\u001b[39m],figsize\u001b[38;5;241m=\u001b[39m(\u001b[38;5;241m12\u001b[39m,\u001b[38;5;241m4\u001b[39m),c\u001b[38;5;241m=\u001b[39m\u001b[38;5;124m'\u001b[39m\u001b[38;5;124mgreen\u001b[39m\u001b[38;5;124m'\u001b[39m)\n",
      "\u001b[0;31mNameError\u001b[0m: name 'df_tesla' is not defined"
     ]
    }
   ],
   "source": [
    "## X limit and y limit coloring\n",
    "df_tesla['High'].plot(xlim=['2020-01-01','2021-01-01'],ylim=[0,800],figsize=(12,4),c='green')"
   ]
  },
  {
   "cell_type": "code",
   "execution_count": null,
   "id": "fd6b9ad4-caec-4489-b472-b9d421f9098c",
   "metadata": {},
   "outputs": [],
   "source": [
    "df_tesla['High'].plot(xlim=['2020-01-01','2021-01-01'],ylim=[0,800],figsize=(12,4),ls='---',c='green')\n"
   ]
  },
  {
   "cell_type": "code",
   "execution_count": null,
   "id": "c5d725b6-4de3-4e1d-8241-699cf4faf084",
   "metadata": {},
   "outputs": [],
   "source": [
    "df_tesla.index"
   ]
  },
  {
   "cell_type": "code",
   "execution_count": null,
   "id": "09352083-f739-4089-851c-317eb4b33e2a",
   "metadata": {},
   "outputs": [],
   "source": [
    "df_tesla.loc['2020-01-01':'2021-01-01].index"
   ]
  },
  {
   "cell_type": "code",
   "execution_count": null,
   "id": "4eaefb1a-8bef-4c81-ac9c-461e9c244d6f",
   "metadata": {},
   "outputs": [],
   "source": [
    "index=df_tesla.loc['2020-01-01':'2021-01-01].index\n",
    "share_open=df_tesla.loc['2020-01-01':'2021-01-01]['open']"
   ]
  },
  {
   "cell_type": "code",
   "execution_count": null,
   "id": "35f81089-4a87-4697-98b0-ec17632947f4",
   "metadata": {},
   "outputs": [],
   "source": [
    "index"
   ]
  },
  {
   "cell_type": "code",
   "execution_count": null,
   "id": "64e98992-709f-4a6c-991e-5ef8b2c32621",
   "metadata": {},
   "outputs": [],
   "source": [
    "import matplotlib.pyplot as plt\n",
    "%matplotlib inline"
   ]
  },
  {
   "cell_type": "code",
   "execution_count": null,
   "id": "c871c384-25c2-4815-85bd-0c1494d435a9",
   "metadata": {},
   "outputs": [],
   "source": [
    "figure,axis=plt.subplots()\n",
    "axis.tight_layout()\n",
    "axis.plot(index,share_open)"
   ]
  },
  {
   "cell_type": "code",
   "execution_count": null,
   "id": "7aabfdb9-3dcb-4d5a-ba0f-9eb8005371b5",
   "metadata": {},
   "outputs": [],
   "source": [
    "figure,axis=plt.subplots()\n",
    "axis.tight_layout()\n",
    "## preveting overlapping\n",
    "figure.autofmt_xdate()\n",
    "axis.plot(index,share_open)"
   ]
  },
  {
   "cell_type": "code",
   "execution_count": null,
   "id": "a9406304-1f75-4eab-92bc-f26c93bc4f9d",
   "metadata": {},
   "outputs": [],
   "source": [
    "## DateTime Index"
   ]
  },
  {
   "cell_type": "code",
   "execution_count": null,
   "id": "198b16f2-0a9a-4213-94a5-a2cc4d104ed5",
   "metadata": {},
   "outputs": [],
   "source": [
    "df_tesla.info()"
   ]
  },
  {
   "cell_type": "code",
   "execution_count": null,
   "id": "03013554-d34c-4404-ae34-04ca6facd6d5",
   "metadata": {},
   "outputs": [],
   "source": [
    "df_tesla.reset_index()"
   ]
  },
  {
   "cell_type": "code",
   "execution_count": null,
   "id": "52c70d1a-4b99-47e5-8727-9851a01dc9d5",
   "metadata": {},
   "outputs": [],
   "source": [
    "df_tesla=df_tesla.reset_index()"
   ]
  },
  {
   "cell_type": "code",
   "execution_count": null,
   "id": "5f0a805f-517d-49b7-9a26-0de96f808776",
   "metadata": {},
   "outputs": [],
   "source": [
    "df_tesla.info()"
   ]
  },
  {
   "cell_type": "code",
   "execution_count": null,
   "id": "9a836c8f-e06b-433e-ac1d-1f18b71f0d4f",
   "metadata": {},
   "outputs": [],
   "source": [
    "pd.to_datetime(df_tesla['Date'])"
   ]
  },
  {
   "cell_type": "code",
   "execution_count": null,
   "id": "e9256fe7-67e0-4c4b-96f0-a3c0efafe7ac",
   "metadata": {},
   "outputs": [],
   "source": [
    "df_tesla"
   ]
  },
  {
   "cell_type": "code",
   "execution_count": null,
   "id": "2cf9cbd6-d7a9-471c-8f9a-9981883a8197",
   "metadata": {},
   "outputs": [],
   "source": [
    "## reset the date\n",
    "df_tesla.set_index('Date',drop=True)"
   ]
  },
  {
   "cell_type": "code",
   "execution_count": null,
   "id": "9b248858-0331-4eed-b232-d623efba3a0a",
   "metadata": {},
   "outputs": [],
   "source": [
    "df_tesla.head()"
   ]
  },
  {
   "cell_type": "code",
   "execution_count": 5,
   "id": "c43912ca-ce7e-46c0-87cc-1f6844971289",
   "metadata": {},
   "outputs": [],
   "source": [
    "## DAtetime\n",
    "from datetime import datetime"
   ]
  },
  {
   "cell_type": "code",
   "execution_count": 6,
   "id": "aef65073-c6aa-492b-81fc-22aa69483508",
   "metadata": {},
   "outputs": [
    {
     "data": {
      "text/plain": [
       "datetime.datetime(2021, 11, 21, 0, 0)"
      ]
     },
     "execution_count": 6,
     "metadata": {},
     "output_type": "execute_result"
    }
   ],
   "source": [
    "# creatig datetime\n",
    "datetime(2021,11,21)"
   ]
  },
  {
   "cell_type": "code",
   "execution_count": 7,
   "id": "80d32703-8a91-42fc-87dd-43de17964dfe",
   "metadata": {},
   "outputs": [
    {
     "data": {
      "text/plain": [
       "datetime.datetime(2024, 6, 5, 1, 55, 26, 846221)"
      ]
     },
     "execution_count": 7,
     "metadata": {},
     "output_type": "execute_result"
    }
   ],
   "source": [
    "datetime.now()"
   ]
  },
  {
   "cell_type": "code",
   "execution_count": 8,
   "id": "3ea8e8a2-720f-41a4-af65-474f21e7f912",
   "metadata": {},
   "outputs": [],
   "source": [
    "def add_num(num1,num2):\n",
    "    return num1+num2"
   ]
  },
  {
   "cell_type": "code",
   "execution_count": 13,
   "id": "eabb6e70-8ee2-4927-86a2-24cc2bd76c07",
   "metadata": {},
   "outputs": [
    {
     "name": "stdout",
     "output_type": "stream",
     "text": [
      "0:00:00.000119\n"
     ]
    }
   ],
   "source": [
    "start_time= datetime.now()\n",
    "num1=20\n",
    "num2=30\n",
    "for i in [1,2,3,4,5]:\n",
    "\n",
    "    add_num(num1,num2)\n",
    "end_time=datetime.now()\n",
    "print(end_time-start_time)"
   ]
  },
  {
   "cell_type": "code",
   "execution_count": 15,
   "id": "1c8b27c4-b12e-48f1-9507-8c1b2d9e230a",
   "metadata": {},
   "outputs": [],
   "source": [
    "date=datetime(2021,11,21)"
   ]
  },
  {
   "cell_type": "code",
   "execution_count": 16,
   "id": "b8927571-0370-4222-8b95-534c9439fb67",
   "metadata": {},
   "outputs": [
    {
     "data": {
      "text/plain": [
       "datetime.datetime(2021, 11, 21, 0, 0)"
      ]
     },
     "execution_count": 16,
     "metadata": {},
     "output_type": "execute_result"
    }
   ],
   "source": [
    "date"
   ]
  },
  {
   "cell_type": "code",
   "execution_count": 17,
   "id": "64eaeac7-019d-49e2-a7f7-7638ab599a45",
   "metadata": {},
   "outputs": [
    {
     "data": {
      "text/plain": [
       "datetime.date(2021, 11, 21)"
      ]
     },
     "execution_count": 17,
     "metadata": {},
     "output_type": "execute_result"
    }
   ],
   "source": [
    "date.date()"
   ]
  },
  {
   "cell_type": "code",
   "execution_count": 18,
   "id": "7d107b43-7621-4b9c-b8d9-cedbb9575e0f",
   "metadata": {},
   "outputs": [
    {
     "data": {
      "text/plain": [
       "21"
      ]
     },
     "execution_count": 18,
     "metadata": {},
     "output_type": "execute_result"
    }
   ],
   "source": [
    "date.day"
   ]
  },
  {
   "cell_type": "code",
   "execution_count": 19,
   "id": "dcdc19e8-b2e3-46a1-b15e-9a62924731c0",
   "metadata": {},
   "outputs": [
    {
     "data": {
      "text/plain": [
       "6"
      ]
     },
     "execution_count": 19,
     "metadata": {},
     "output_type": "execute_result"
    }
   ],
   "source": [
    "date.weekday()"
   ]
  },
  {
   "cell_type": "code",
   "execution_count": 20,
   "id": "7d1a668a-1f48-44a7-b161-dc0240e6ebc7",
   "metadata": {},
   "outputs": [
    {
     "data": {
      "text/plain": [
       "2021"
      ]
     },
     "execution_count": 20,
     "metadata": {},
     "output_type": "execute_result"
    }
   ],
   "source": [
    "date.year"
   ]
  },
  {
   "cell_type": "code",
   "execution_count": 21,
   "id": "7c9b881f-11f2-4405-b1a0-6dec257f87c5",
   "metadata": {},
   "outputs": [
    {
     "data": {
      "text/plain": [
       "11"
      ]
     },
     "execution_count": 21,
     "metadata": {},
     "output_type": "execute_result"
    }
   ],
   "source": [
    "date.month"
   ]
  },
  {
   "cell_type": "markdown",
   "id": "92aa0537-5193-4267-bc0f-b4f9c45a2ae0",
   "metadata": {},
   "source": [
    "### Time Resampling"
   ]
  },
  {
   "cell_type": "code",
   "execution_count": null,
   "id": "72e94f23-6a45-4627-ae4e-1e0e5a292dc0",
   "metadata": {},
   "outputs": [],
   "source": [
    "df_tesla.head()"
   ]
  },
  {
   "cell_type": "code",
   "execution_count": null,
   "id": "326ef405-2b24-45db-a9b1-fdd8d6547c1c",
   "metadata": {},
   "outputs": [],
   "source": [
    "## Resampling\n"
   ]
  },
  {
   "cell_type": "code",
   "execution_count": null,
   "id": "1e705fed-440c-4af2-865d-0e1d6d7b1133",
   "metadata": {},
   "outputs": [],
   "source": [
    "## yearly start frequnecy\n",
    "df_tesla.resample(rule='A').min()"
   ]
  },
  {
   "cell_type": "code",
   "execution_count": null,
   "id": "a0f11815-f83a-4daf-a7ad-0f9a23671ef4",
   "metadata": {},
   "outputs": [],
   "source": [
    "df_tesla.resample(rule='A').max()"
   ]
  },
  {
   "cell_type": "code",
   "execution_count": null,
   "id": "90cafdc6-ed9b-4cda-bdff-191efbe185d9",
   "metadata": {},
   "outputs": [],
   "source": [
    "type(df_tesla.resample(rule='A').max()['open'].plot()"
   ]
  },
  {
   "cell_type": "code",
   "execution_count": null,
   "id": "76ecb04e-be64-41d3-9d6b-70925ace0850",
   "metadata": {},
   "outputs": [],
   "source": [
    "# quaterly start frequnecy\n",
    "df_tesla.resample(rule='QS').max()"
   ]
  },
  {
   "cell_type": "code",
   "execution_count": null,
   "id": "e990ba25-b063-4ca4-97b6-5e87432aabea",
   "metadata": {},
   "outputs": [],
   "source": [
    "df_tesla.resample(rule='QS').max()['open'].plot()"
   ]
  },
  {
   "cell_type": "code",
   "execution_count": null,
   "id": "361be236-be06-4ea4-95f8-f9d9625c4217",
   "metadata": {},
   "outputs": [],
   "source": [
    "# Business End Frequency\n",
    "df_tesla.resample(rule='BA').max()"
   ]
  },
  {
   "cell_type": "code",
   "execution_count": null,
   "id": "a29087ad-2712-45cc-b5b4-99bd3e3fd0a7",
   "metadata": {},
   "outputs": [],
   "source": [
    "# Business quarter End Frequency\n",
    "df_tesla.resample(rule='BQS').max()"
   ]
  },
  {
   "cell_type": "code",
   "execution_count": null,
   "id": "08724186-39d4-4e07-972e-64d6e270c268",
   "metadata": {},
   "outputs": [],
   "source": [
    "## plotting\n",
    "df_tesla['Open'].resample(rule='BA').mean().plot(kind='bar')"
   ]
  },
  {
   "cell_type": "code",
   "execution_count": null,
   "id": "310400d0-9646-431a-8ac0-218269d85450",
   "metadata": {},
   "outputs": [],
   "source": [
    "df_tesla['Open'].resample(rule='M').max()['open'].plot(kind='bar',figsize=(15,8))"
   ]
  },
  {
   "cell_type": "code",
   "execution_count": null,
   "id": "07963e90-c074-4199-809e-4757d039ecc4",
   "metadata": {},
   "outputs": [],
   "source": [
    "## Rolling\n",
    "df_tesla['High'].rolling(10)"
   ]
  },
  {
   "cell_type": "code",
   "execution_count": null,
   "id": "3fb7c3d8-2259-440e-9075-43a5c9331663",
   "metadata": {},
   "outputs": [],
   "source": [
    "## \n",
    "df_tesla['High'].rolling(10).mean()"
   ]
  },
  {
   "cell_type": "code",
   "execution_count": null,
   "id": "4627026c-f3ca-466f-a699-301833e04b4f",
   "metadata": {},
   "outputs": [],
   "source": [
    "df_tesla.head()"
   ]
  },
  {
   "cell_type": "code",
   "execution_count": null,
   "id": "6afd0f5a-aef8-41d0-ac2f-515f45abd633",
   "metadata": {},
   "outputs": [],
   "source": [
    "df_tesla['High'].rolling(11).mean().head(20)"
   ]
  },
  {
   "cell_type": "code",
   "execution_count": null,
   "id": "e9ed9ab0-4c6e-44b4-b9aa-fdd68f5671f2",
   "metadata": {},
   "outputs": [],
   "source": [
    "df_tesla['High'].rolling(11).max().head(20)"
   ]
  },
  {
   "cell_type": "code",
   "execution_count": null,
   "id": "86e8cc5c-f9b2-4da8-9b2e-db7d8afdb951",
   "metadata": {},
   "outputs": [],
   "source": [
    "# create the column\n",
    "df_tesla['Open:30 days rollling']=df_tesla['Open'].rolling(30).mean()"
   ]
  },
  {
   "cell_type": "code",
   "execution_count": null,
   "id": "fcf78ce7-20be-4766-98b1-fbce0e3802af",
   "metadata": {},
   "outputs": [],
   "source": [
    "df_tesla.head()"
   ]
  },
  {
   "cell_type": "markdown",
   "id": "c6175d32-7db8-466c-9239-0845a26a539c",
   "metadata": {},
   "source": [
    "# open and open 30d days rolling"
   ]
  },
  {
   "cell_type": "code",
   "execution_count": null,
   "id": "7a432ef1-6e6c-48f6-ab91-869fd0d4b0fa",
   "metadata": {},
   "outputs": [],
   "source": [
    "df_tesla[['Open','Open:30 days rollling']].plot(figsize=(12,5))"
   ]
  },
  {
   "cell_type": "code",
   "execution_count": null,
   "id": "8ecdb5a5-c709-4bde-9d15-700866284569",
   "metadata": {},
   "outputs": [],
   "source": []
  },
  {
   "cell_type": "code",
   "execution_count": null,
   "id": "8337a74d-3be8-4d4a-95b6-5614cac87d77",
   "metadata": {},
   "outputs": [],
   "source": []
  },
  {
   "cell_type": "code",
   "execution_count": null,
   "id": "0af7a82d-a127-472c-bd34-2295e9e79028",
   "metadata": {},
   "outputs": [],
   "source": []
  }
 ],
 "metadata": {
  "kernelspec": {
   "display_name": "Python 3 (ipykernel)",
   "language": "python",
   "name": "python3"
  },
  "language_info": {
   "codemirror_mode": {
    "name": "ipython",
    "version": 3
   },
   "file_extension": ".py",
   "mimetype": "text/x-python",
   "name": "python",
   "nbconvert_exporter": "python",
   "pygments_lexer": "ipython3",
   "version": "3.11.7"
  }
 },
 "nbformat": 4,
 "nbformat_minor": 5
}
